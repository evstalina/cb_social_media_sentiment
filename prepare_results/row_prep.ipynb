{
 "cells": [
  {
   "cell_type": "code",
   "execution_count": 34,
   "id": "cd840fb1",
   "metadata": {},
   "outputs": [],
   "source": [
    "import pandas as pd\n",
    "from pymorphy2 import MorphAnalyzer\n",
    "from nltk.corpus import stopwords\n",
    "from pymorphy2 import MorphAnalyzer\n",
    "from nltk.stem.snowball import SnowballStemmer\n",
    "from tqdm.notebook import tqdm"
   ]
  },
  {
   "cell_type": "code",
   "execution_count": 11,
   "id": "4acadf69",
   "metadata": {},
   "outputs": [
    {
     "name": "stderr",
     "output_type": "stream",
     "text": [
      "C:\\Users\\V\\AppData\\Local\\Temp\\ipykernel_19236\\1496209372.py:1: DtypeWarning: Columns (7) have mixed types. Specify dtype option on import or set low_memory=False.\n",
      "  df = pd.read_csv('Comments.csv')\n"
     ]
    }
   ],
   "source": [
    "df = pd.read_csv('Comments.csv')\n",
    "df_ch = pd.read_csv('Channels.csv')\n",
    "df_filter = pd.read_csv('filter_words.csv')\n",
    "morph_analyzer = MorphAnalyzer()"
   ]
  },
  {
   "cell_type": "code",
   "execution_count": 12,
   "id": "9d3ba909",
   "metadata": {},
   "outputs": [],
   "source": [
    "level1 = df_filter[df_filter['level'] == 1]['words'].apply(lambda s: morph_analyzer.parse(s)[0].normal_form).values.tolist()\n",
    "level2 = df_filter[df_filter['level'] == 2]['words'].apply(lambda s: morph_analyzer.parse(s)[0].normal_form).values.tolist()"
   ]
  },
  {
   "cell_type": "code",
   "execution_count": 14,
   "id": "9e62cf21",
   "metadata": {},
   "outputs": [],
   "source": [
    "import re\n",
    "\n",
    "def _stem_text(text, morph_analyzer):\n",
    "    if type(text) != type('привет Андрей'):\n",
    "        return ''\n",
    "    text = text.lower()\n",
    "    text = re.sub(r'@[0-9a-zа-яё\\-. ]*', '', text)\n",
    "    text = re.sub(r'[^a-zа-яё ]+', ' ', text)\n",
    "    text = text.replace(\"  \", \" \")\n",
    "    return text"
   ]
  },
  {
   "cell_type": "code",
   "execution_count": 16,
   "id": "704cfa14",
   "metadata": {},
   "outputs": [
    {
     "name": "stdout",
     "output_type": "stream",
     "text": [
      "Wall time: 1min 3s\n"
     ]
    }
   ],
   "source": [
    "%%time\n",
    "\n",
    "df_ch['title_pr'] = df_ch['title'].apply(lambda s: [morph_analyzer.parse(i)[0].normal_form for i in _stem_text(s, 1).split(' ')])\n",
    "df_ch['description_pr'] = df_ch['description'].apply(lambda s: [morph_analyzer.parse(i)[0].normal_form for i in _stem_text(s, 1).split(' ')])"
   ]
  },
  {
   "cell_type": "code",
   "execution_count": 27,
   "id": "c633c111",
   "metadata": {},
   "outputs": [],
   "source": [
    "def flatten(l):\n",
    "    return [item for sublist in l for item in sublist]"
   ]
  },
  {
   "cell_type": "code",
   "execution_count": 32,
   "id": "d862b233",
   "metadata": {},
   "outputs": [
    {
     "name": "stdout",
     "output_type": "stream",
     "text": [
      "Wall time: 59.6 s\n"
     ]
    }
   ],
   "source": [
    "%%time\n",
    "\n",
    "\n",
    "df_ch['tags_pr'] = df_ch['tags'].apply(lambda s: [morph_analyzer.parse(i)[0].normal_form for i in flatten([_stem_text(i, 1).split(' ') for i in s.split('\\'')])])"
   ]
  },
  {
   "cell_type": "code",
   "execution_count": 35,
   "id": "949d5f80",
   "metadata": {},
   "outputs": [
    {
     "data": {
      "application/vnd.jupyter.widget-view+json": {
       "model_id": "b10122805c494fbd8feec1560bd04747",
       "version_major": 2,
       "version_minor": 0
      },
      "text/plain": [
       "  0%|          | 0/1646130 [00:00<?, ?it/s]"
      ]
     },
     "metadata": {},
     "output_type": "display_data"
    }
   ],
   "source": [
    "lst = df['text'].values.tolist()\n",
    "res = []\n",
    "\n",
    "for j in tqdm(lst):\n",
    "    res +=  [[morph_analyzer.parse(i)[0].normal_form for i in _stem_text(j, 1).split(' ')]]\n",
    "    \n",
    "df['text_pr'] = res"
   ]
  },
  {
   "cell_type": "code",
   "execution_count": 37,
   "id": "7da057f5",
   "metadata": {},
   "outputs": [],
   "source": [
    "df.to_csv('debug/comments.csv')\n",
    "df_ch.to_csv('debug/channels.csv')"
   ]
  },
  {
   "cell_type": "code",
   "execution_count": 39,
   "id": "d4beb946",
   "metadata": {},
   "outputs": [
    {
     "data": {
      "application/vnd.jupyter.widget-view+json": {
       "model_id": "dea9915a63b340679e1381faf96cb281",
       "version_major": 2,
       "version_minor": 0
      },
      "text/plain": [
       "  0%|          | 0/1646130 [00:00<?, ?it/s]"
      ]
     },
     "metadata": {},
     "output_type": "display_data"
    }
   ],
   "source": [
    "lps = df['text_pr'].values.tolist()\n",
    "\n",
    "lv1_ = []\n",
    "lv2_ = []\n",
    "\n",
    "for i in tqdm(lps):\n",
    "    lv1_ += [len(list(set(level1) & set(i)))]\n",
    "    lv2_ += [len(list(set(level2) & set(i)))]\n",
    "    \n",
    "df['level1'] = lv1_\n",
    "df['level2'] = lv2_"
   ]
  },
  {
   "cell_type": "code",
   "execution_count": 115,
   "id": "c6ea428b",
   "metadata": {},
   "outputs": [],
   "source": [
    "#lps1 = df_ch['tags_pr'].values.tolist()\n",
    "lps1 = [' _ '] * len(df_ch['tags_pr'].values.tolist())\n",
    "lps2 = df_ch['description_pr'].values.tolist()\n",
    "lps3 = df_ch['title_pr'].values.tolist()\n",
    "\n",
    "lv1_ = []\n",
    "lv2_ = []\n",
    "\n",
    "for i in range(len(lps1)):\n",
    "    lv1_ += [len(list(set(level1) & set(lps1[i]))) + len(list(set(level1) & set(lps2[i]))) + len(list(set(level1) & set(lps3[i])))]\n",
    "    lv2_ += [len(list(set(level2) & set(lps1[i]))) + len(list(set(level2) & set(lps2[i]))) + len(list(set(level2) & set(lps3[i])))]\n",
    "\n",
    "df_ch['level1'] = lv1_\n",
    "df_ch['level2'] = lv2_"
   ]
  },
  {
   "cell_type": "code",
   "execution_count": 123,
   "id": "5d96e779",
   "metadata": {},
   "outputs": [],
   "source": [
    "videos_1 = df_ch[(df_ch['level1'] + df_ch['level2'] >= 2)][['videoId', 'publicationDate']]"
   ]
  },
  {
   "cell_type": "code",
   "execution_count": 122,
   "id": "4e0bb1ca",
   "metadata": {},
   "outputs": [],
   "source": [
    "videos_1l = set(videos_1['videoId'].values.tolist())"
   ]
  },
  {
   "cell_type": "code",
   "execution_count": 109,
   "id": "f2260e83",
   "metadata": {},
   "outputs": [
    {
     "data": {
      "application/vnd.jupyter.widget-view+json": {
       "model_id": "50856b8eccd740c2a563bf03f5a988f9",
       "version_major": 2,
       "version_minor": 0
      },
      "text/plain": [
       "0it [00:00, ?it/s]"
      ]
     },
     "metadata": {},
     "output_type": "display_data"
    }
   ],
   "source": [
    "spr = {'comment' : [], 'sentiment' : [], 'date' : [], 'id' : []}\n",
    "\n",
    "for _, i in tqdm(df_.iterrows()):\n",
    "    if (i['videoId'] in videos_1l) and (i['level1'] + i['level2'] > 0):\n",
    "        spr['comment'] += [i['text']]\n",
    "        spr['sentiment'] += [i['sentiment']]\n",
    "        spr['date'] += [videos_1[videos_1['videoId'] == i['videoId']]['publicationDate'].values[0]]\n",
    "        spr['id'] += [i['cid']]"
   ]
  },
  {
   "cell_type": "code",
   "execution_count": 110,
   "id": "fdffacd9",
   "metadata": {},
   "outputs": [],
   "source": [
    "df_YT = pd.DataFrame(data = spr)"
   ]
  },
  {
   "cell_type": "code",
   "execution_count": 126,
   "id": "c8a03179",
   "metadata": {},
   "outputs": [],
   "source": [
    "df_YT['date'] = df_YT['date'].apply(lambda s: s[:10])"
   ]
  },
  {
   "cell_type": "code",
   "execution_count": 127,
   "id": "836071ce",
   "metadata": {},
   "outputs": [],
   "source": [
    "dates_ = pd.read_csv('date.csv')\n",
    "dates_ = dates_['date'].values.tolist()\n",
    "dates_ = dates_[::-1]\n",
    "dates_ = ['-'.join(i.split('.')[::-1]) for i in dates_]"
   ]
  },
  {
   "cell_type": "code",
   "execution_count": 128,
   "id": "09375309",
   "metadata": {},
   "outputs": [],
   "source": [
    "def f_ss(s):\n",
    "    for i in range(len(dates_)):\n",
    "        if s >= dates_[i]:\n",
    "            return dates_[i]\n",
    "        \n",
    "    return '0000-00-00'"
   ]
  },
  {
   "cell_type": "code",
   "execution_count": 129,
   "id": "c67910c2",
   "metadata": {},
   "outputs": [],
   "source": [
    "df_YT['date_processed'] = df_YT['date'].apply(lambda s: f_ss(s))"
   ]
  },
  {
   "cell_type": "code",
   "execution_count": 130,
   "id": "989cca7b",
   "metadata": {},
   "outputs": [],
   "source": [
    "df_YT['positive'] = df_YT['sentiment'].apply(lambda s: 1 if s == 1 else 0)\n",
    "df_YT['negative'] = df_YT['sentiment'].apply(lambda s: 1 if s == -1 else 0)\n",
    "df_YT['neutral'] = df_YT['sentiment'].apply(lambda s: 1 if s == 0 else 0)"
   ]
  },
  {
   "cell_type": "code",
   "execution_count": 131,
   "id": "4c749960",
   "metadata": {},
   "outputs": [],
   "source": [
    "df_resulting = df_YT[['date_processed', 'positive', 'negative', 'neutral']].groupby(by=['date_processed']).sum().reset_index()"
   ]
  },
  {
   "cell_type": "code",
   "execution_count": 132,
   "id": "4b778793",
   "metadata": {},
   "outputs": [],
   "source": [
    "df_resulting.to_csv('YT_HARD_FILTER.csv')"
   ]
  }
 ],
 "metadata": {
  "kernelspec": {
   "display_name": "Python 3 (ipykernel)",
   "language": "python",
   "name": "python3"
  },
  "language_info": {
   "codemirror_mode": {
    "name": "ipython",
    "version": 3
   },
   "file_extension": ".py",
   "mimetype": "text/x-python",
   "name": "python",
   "nbconvert_exporter": "python",
   "pygments_lexer": "ipython3",
   "version": "3.9.13"
  }
 },
 "nbformat": 4,
 "nbformat_minor": 5
}
