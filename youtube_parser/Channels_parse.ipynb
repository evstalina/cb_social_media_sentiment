{
 "cells": [
  {
   "cell_type": "code",
   "execution_count": 1,
   "id": "9a8ff194",
   "metadata": {},
   "outputs": [],
   "source": [
    "from _videos_parser import *"
   ]
  },
  {
   "cell_type": "code",
   "execution_count": 19,
   "id": "13e3232e",
   "metadata": {},
   "outputs": [],
   "source": [
    "# channel_ids = [\n",
    "#     'UCsJn2vDKhf3YrCnSoKRv0lw', 'UC9uayMAC_wWlEh96vCKq1Jw',\n",
    "#     'UC5J6Do11WM_iKQ3uOPXd4Pg', 'UCD23js7wHnyG_yhimDMpLpg',\n",
    "#     'UCflfdgi0Wsso2nuLeYNWcZw', 'UCVMd5hFLKj-gNx4SSl9GBKg',\n",
    "#     'UClPSRMRfDffc9vWpQOHYxsw', 'UCVA5heoUfs5yohiil9PJhRw',\n",
    "#     'UCHwNzGSytbhWg3fR0OPMbVQ', 'UCL-8PXA_Jz5_nhaRfMGzZQQ',\n",
    "#     'UC54SBo5_usXGEoybX1ZVETQ', 'UC57wqQc5ZNPFs2bopG-l5-A',\n",
    "#     'UC-WK8QlQJpAROCrO7dRvqcw', 'UCnyA5zdwYr8B_mVxSOkKuOg',\n",
    "#     'UCHlAOVl5_N-oAzIupQ1IE9g', 'UCmgbotK9TwkZdTZwC8tDMVw',\n",
    "#     'UCV1OoEn5s59r6yQ4t834u0A', 'UCaiIVOMZJVeWsFTAjY5xKLA',\n",
    "#     'UCkHxTD-Vz8dPfDMtCqef3UQ', 'UCYDXvolrSXB1qbCpOZkHpjg',\n",
    "#     'UCNajB3rUWROLopY8T1nJVtg', 'UCIRBmeJKx5gaPA4-6AOqKMA',\n",
    "#     'UCdY89sLGpx7Gg8CyttuedAw', 'UC0OytamlH2cmX7P-Opp5vyw',\n",
    "#     'UCRiMhZrS2VNyHVMQjQeSU4A', 'UCDb4jlgcnwZG4kZ2Ajbsv3g',\n",
    "#     'UCVOWQBowdCy_ILKjW58zemQ', 'UCGJuaEgZMOZlTLV-FJ_Ad3w',\n",
    "#     'UCZaikTRTEa5q4ncLnK4jzuQ', 'UCFzJjgVicCtFxJ5B0P_ei8A',\n",
    "#     'UClpbhhHmyCxtXiDsD3QhzCg'\n",
    "# ]\n",
    "\n",
    "channel_ids = ['UCnyA5zdwYr8B_mVxSOkKuOg']"
   ]
  },
  {
   "cell_type": "code",
   "execution_count": 9,
   "id": "911ba5c2",
   "metadata": {},
   "outputs": [],
   "source": [
    "devKey = '' # API KEY"
   ]
  },
  {
   "cell_type": "code",
   "execution_count": 10,
   "id": "217eaf90",
   "metadata": {},
   "outputs": [],
   "source": [
    "def parse_channel_top(channelId, path, devKey):\n",
    "    youtube = build(\"youtube\", \"v3\", developerKey=devKey)\n",
    "    all_videos = process_channel_videos(youtube, channelId)\n",
    "    pd.DataFrame(data = all_videos).to_csv(path)\n",
    "    return"
   ]
  },
  {
   "cell_type": "code",
   "execution_count": 13,
   "id": "cbaad54b",
   "metadata": {},
   "outputs": [
    {
     "name": "stdout",
     "output_type": "stream",
     "text": [
      "+ 0 videos\n",
      "{'date_start': '2018-02-09T00:00:00Z', 'date_end': '2018-02-23T00:00:00Z'}\n",
      "+ 0 videos\n",
      "{'date_start': '2018-03-23T00:00:00Z', 'date_end': '2018-04-06T00:00:00Z'}\n",
      "+ 0 videos\n",
      "{'date_start': '2018-04-27T00:00:00Z', 'date_end': '2018-05-11T00:00:00Z'}\n",
      "+ 0 videos\n",
      "{'date_start': '2018-06-15T00:00:00Z', 'date_end': '2018-06-29T00:00:00Z'}\n",
      "+ 0 videos\n",
      "{'date_start': '2018-07-27T00:00:00Z', 'date_end': '2018-08-10T00:00:00Z'}\n",
      "+ 0 videos\n",
      "{'date_start': '2018-09-14T00:00:00Z', 'date_end': '2018-09-28T00:00:00Z'}\n",
      "+ 0 videos\n",
      "{'date_start': '2018-09-26T00:00:00Z', 'date_end': '2018-10-10T00:00:00Z'}\n",
      "+ 0 videos\n",
      "{'date_start': '2018-12-14T00:00:00Z', 'date_end': '2018-12-28T00:00:00Z'}\n",
      "+ 0 videos\n",
      "{'date_start': '2019-02-08T00:00:00Z', 'date_end': '2019-02-22T00:00:00Z'}\n",
      "+ 0 videos\n",
      "{'date_start': '2019-03-22T00:00:00Z', 'date_end': '2019-04-05T00:00:00Z'}\n",
      "+ 0 videos\n",
      "{'date_start': '2019-04-26T00:00:00Z', 'date_end': '2019-05-10T00:00:00Z'}\n",
      "+ 0 videos\n",
      "{'date_start': '2019-06-14T00:00:00Z', 'date_end': '2019-06-28T00:00:00Z'}\n",
      "+ 0 videos\n",
      "{'date_start': '2019-07-26T00:00:00Z', 'date_end': '2019-08-09T00:00:00Z'}\n",
      "+ 14 videos\n",
      "{'date_start': '2019-09-06T00:00:00Z', 'date_end': '2019-09-20T00:00:00Z'}\n",
      "+ 14 videos\n",
      "{'date_start': '2019-10-25T00:00:00Z', 'date_end': '2019-11-08T00:00:00Z'}\n",
      "+ 13 videos\n",
      "{'date_start': '2019-12-13T00:00:00Z', 'date_end': '2019-12-27T00:00:00Z'}\n",
      "+ 9 videos\n",
      "{'date_start': '2020-02-07T00:00:00Z', 'date_end': '2020-02-21T00:00:00Z'}\n",
      "+ 12 videos\n",
      "{'date_start': '2020-03-20T00:00:00Z', 'date_end': '2020-04-03T00:00:00Z'}\n",
      "+ 11 videos\n",
      "{'date_start': '2020-04-24T00:00:00Z', 'date_end': '2020-05-08T00:00:00Z'}\n",
      "+ 10 videos\n",
      "{'date_start': '2020-06-19T00:00:00Z', 'date_end': '2020-07-03T00:00:00Z'}\n",
      "+ 12 videos\n",
      "{'date_start': '2020-07-24T00:00:00Z', 'date_end': '2020-08-07T00:00:00Z'}\n",
      "+ 13 videos\n",
      "{'date_start': '2020-09-18T00:00:00Z', 'date_end': '2020-10-02T00:00:00Z'}\n",
      "+ 13 videos\n",
      "{'date_start': '2020-10-23T00:00:00Z', 'date_end': '2020-11-06T00:00:00Z'}\n",
      "+ 13 videos\n",
      "{'date_start': '2020-12-18T00:00:00Z', 'date_end': '2021-01-01T00:00:00Z'}\n",
      "+ 11 videos\n",
      "{'date_start': '2021-02-12T00:00:00Z', 'date_end': '2021-02-26T00:00:00Z'}\n",
      "+ 11 videos\n",
      "{'date_start': '2021-03-19T00:00:00Z', 'date_end': '2021-04-02T00:00:00Z'}\n",
      "+ 12 videos\n",
      "{'date_start': '2021-04-23T00:00:00Z', 'date_end': '2021-05-07T00:00:00Z'}\n",
      "+ 14 videos\n",
      "{'date_start': '2021-06-11T00:00:00Z', 'date_end': '2021-06-25T00:00:00Z'}\n",
      "+ 14 videos\n",
      "{'date_start': '2021-07-23T00:00:00Z', 'date_end': '2021-08-06T00:00:00Z'}\n",
      "+ 14 videos\n",
      "{'date_start': '2021-09-10T00:00:00Z', 'date_end': '2021-09-24T00:00:00Z'}\n",
      "+ 14 videos\n",
      "{'date_start': '2021-10-22T00:00:00Z', 'date_end': '2021-11-05T00:00:00Z'}\n",
      "+ 12 videos\n",
      "{'date_start': '2021-12-17T00:00:00Z', 'date_end': '2021-12-31T00:00:00Z'}\n",
      "+ 16 videos\n",
      "{'date_start': '2022-02-11T00:00:00Z', 'date_end': '2022-02-25T00:00:00Z'}\n",
      "+ 17 videos\n",
      "{'date_start': '2022-02-28T00:00:00Z', 'date_end': '2022-03-14T00:00:00Z'}\n",
      "+ 15 videos\n",
      "{'date_start': '2022-03-18T00:00:00Z', 'date_end': '2022-04-01T00:00:00Z'}\n",
      "+ 15 videos\n",
      "{'date_start': '2022-04-08T00:00:00Z', 'date_end': '2022-04-22T00:00:00Z'}\n",
      "+ 11 videos\n",
      "{'date_start': '2022-04-29T00:00:00Z', 'date_end': '2022-05-13T00:00:00Z'}\n",
      "+ 14 videos\n",
      "{'date_start': '2022-05-26T00:00:00Z', 'date_end': '2022-06-09T00:00:00Z'}\n",
      "+ 14 videos\n",
      "{'date_start': '2022-06-10T00:00:00Z', 'date_end': '2022-06-24T00:00:00Z'}\n",
      "+ 14 videos\n",
      "{'date_start': '2022-07-22T00:00:00Z', 'date_end': '2022-08-05T00:00:00Z'}\n",
      "+ 14 videos\n",
      "{'date_start': '2022-09-16T00:00:00Z', 'date_end': '2022-09-30T00:00:00Z'}\n",
      "+ 9 videos\n",
      "{'date_start': '2022-10-28T00:00:00Z', 'date_end': '2022-11-11T00:00:00Z'}\n"
     ]
    }
   ],
   "source": [
    "channels_parsed = []\n",
    "\n",
    "tmp_file = 'tmp1.csv'\n",
    "\n",
    "for i in channel_ids:\n",
    "    parse_channel_top(i, 'tmp1.csv', devKey)\n",
    "    channels_parsed += [pd.read_csv(tmp_file)]\n"
   ]
  },
  {
   "cell_type": "code",
   "execution_count": 18,
   "id": "8e889f5c",
   "metadata": {},
   "outputs": [],
   "source": [
    "pd.concat(channels_parsed).to_csv('Channels.csv')"
   ]
  },
  {
   "cell_type": "code",
   "execution_count": null,
   "id": "852b0d54",
   "metadata": {},
   "outputs": [],
   "source": []
  }
 ],
 "metadata": {
  "kernelspec": {
   "display_name": "Python 3 (ipykernel)",
   "language": "python",
   "name": "python3"
  },
  "language_info": {
   "codemirror_mode": {
    "name": "ipython",
    "version": 3
   },
   "file_extension": ".py",
   "mimetype": "text/x-python",
   "name": "python",
   "nbconvert_exporter": "python",
   "pygments_lexer": "ipython3",
   "version": "3.9.13"
  }
 },
 "nbformat": 4,
 "nbformat_minor": 5
}
