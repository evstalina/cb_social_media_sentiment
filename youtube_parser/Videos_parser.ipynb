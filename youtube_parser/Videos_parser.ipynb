{
 "cells": [
  {
   "cell_type": "code",
   "execution_count": 2,
   "id": "9c638b6e",
   "metadata": {},
   "outputs": [],
   "source": [
    "from itertools import islice\n",
    "import pandas as pd\n",
    "from tqdm.notebook import tqdm\n",
    "from youtube_comment_downloader import *"
   ]
  },
  {
   "cell_type": "code",
   "execution_count": 3,
   "id": "3ddc59aa",
   "metadata": {},
   "outputs": [],
   "source": [
    "downloader = YoutubeCommentDownloader()"
   ]
  },
  {
   "cell_type": "code",
   "execution_count": 4,
   "id": "5309ff79",
   "metadata": {},
   "outputs": [],
   "source": [
    "df = pd.read_csv('Channels.csv')[pd.read_csv('Channels.csv').columns[1:]]"
   ]
  },
  {
   "cell_type": "code",
   "execution_count": 5,
   "id": "43f1c6d7",
   "metadata": {},
   "outputs": [
    {
     "data": {
      "application/vnd.jupyter.widget-view+json": {
       "model_id": "e860e31211484d98a3ff657f7e6abfa1",
       "version_major": 2,
       "version_minor": 0
      },
      "text/plain": [
       "0it [00:00, ?it/s]"
      ]
     },
     "metadata": {},
     "output_type": "display_data"
    },
    {
     "name": "stdout",
     "output_type": "stream",
     "text": [
      "cv8SEpiYFXE 246 comments parsed\n"
     ]
    },
    {
     "ename": "KeyboardInterrupt",
     "evalue": "",
     "output_type": "error",
     "traceback": [
      "\u001b[1;31m---------------------------------------------------------------------------\u001b[0m",
      "\u001b[1;31mKeyboardInterrupt\u001b[0m                         Traceback (most recent call last)",
      "\u001b[1;32m~\\AppData\\Local\\Temp\\ipykernel_7248\\1427998763.py\u001b[0m in \u001b[0;36m<module>\u001b[1;34m\u001b[0m\n\u001b[0;32m      6\u001b[0m     \u001b[0mcomments_generator\u001b[0m \u001b[1;33m=\u001b[0m \u001b[0mdownloader\u001b[0m\u001b[1;33m.\u001b[0m\u001b[0mget_comments_from_url\u001b[0m\u001b[1;33m(\u001b[0m\u001b[0mlink\u001b[0m\u001b[1;33m,\u001b[0m \u001b[0msort_by\u001b[0m\u001b[1;33m=\u001b[0m\u001b[0mSORT_BY_RECENT\u001b[0m\u001b[1;33m)\u001b[0m\u001b[1;33m\u001b[0m\u001b[1;33m\u001b[0m\u001b[0m\n\u001b[0;32m      7\u001b[0m     \u001b[0mcounter\u001b[0m \u001b[1;33m=\u001b[0m \u001b[1;36m0\u001b[0m\u001b[1;33m\u001b[0m\u001b[1;33m\u001b[0m\u001b[0m\n\u001b[1;32m----> 8\u001b[1;33m     \u001b[1;32mfor\u001b[0m \u001b[0mcomment\u001b[0m \u001b[1;32min\u001b[0m \u001b[0mislice\u001b[0m\u001b[1;33m(\u001b[0m\u001b[0mcomments_generator\u001b[0m\u001b[1;33m,\u001b[0m \u001b[1;36m1000\u001b[0m\u001b[1;33m)\u001b[0m\u001b[1;33m:\u001b[0m\u001b[1;33m\u001b[0m\u001b[1;33m\u001b[0m\u001b[0m\n\u001b[0m\u001b[0;32m      9\u001b[0m         \u001b[0mcounter\u001b[0m \u001b[1;33m+=\u001b[0m \u001b[1;36m1\u001b[0m\u001b[1;33m\u001b[0m\u001b[1;33m\u001b[0m\u001b[0m\n\u001b[0;32m     10\u001b[0m         \u001b[0mcm\u001b[0m \u001b[1;33m=\u001b[0m \u001b[1;33m{\u001b[0m\u001b[1;34m'videoId'\u001b[0m\u001b[1;33m:\u001b[0m \u001b[0mvideoId\u001b[0m\u001b[1;33m}\u001b[0m\u001b[1;33m\u001b[0m\u001b[1;33m\u001b[0m\u001b[0m\n",
      "\u001b[1;32m~\\anaconda3\\lib\\site-packages\\youtube_comment_downloader\\downloader.py\u001b[0m in \u001b[0;36mget_comments_from_url\u001b[1;34m(self, youtube_url, sort_by, language, sleep)\u001b[0m\n\u001b[0;32m    115\u001b[0m \u001b[1;33m\u001b[0m\u001b[0m\n\u001b[0;32m    116\u001b[0m                 \u001b[1;32myield\u001b[0m \u001b[0mresult\u001b[0m\u001b[1;33m\u001b[0m\u001b[1;33m\u001b[0m\u001b[0m\n\u001b[1;32m--> 117\u001b[1;33m             \u001b[0mtime\u001b[0m\u001b[1;33m.\u001b[0m\u001b[0msleep\u001b[0m\u001b[1;33m(\u001b[0m\u001b[0msleep\u001b[0m\u001b[1;33m)\u001b[0m\u001b[1;33m\u001b[0m\u001b[1;33m\u001b[0m\u001b[0m\n\u001b[0m\u001b[0;32m    118\u001b[0m \u001b[1;33m\u001b[0m\u001b[0m\n\u001b[0;32m    119\u001b[0m     \u001b[1;33m@\u001b[0m\u001b[0mstaticmethod\u001b[0m\u001b[1;33m\u001b[0m\u001b[1;33m\u001b[0m\u001b[0m\n",
      "\u001b[1;31mKeyboardInterrupt\u001b[0m: "
     ]
    }
   ],
   "source": [
    "comments_set = []\n",
    "\n",
    "for i, j in tqdm(df.iterrows()):\n",
    "    videoId = j['videoId']\n",
    "    link = 'https://www.youtube.com/watch?v=' + videoId\n",
    "    comments_generator = downloader.get_comments_from_url(link, sort_by=SORT_BY_RECENT)\n",
    "    counter = 0\n",
    "    for comment in islice(comments_generator, 1000):\n",
    "        counter += 1\n",
    "        cm = {'videoId': videoId}\n",
    "        cm['channel'] = comment['channel']\n",
    "        cm['text'] = comment['text']\n",
    "        cm['cid'] = comment['cid']\n",
    "        cm['relpy'] = comment['reply']\n",
    "        cm['parentId'] = comment['cid'].split('.')[0]\n",
    "        cm['date'] = j['publicationDate']\n",
    "        comments_set += [cm]\n",
    "    print(videoId, counter, 'comments parsed')"
   ]
  },
  {
   "cell_type": "code",
   "execution_count": 6,
   "id": "4dbe56e3",
   "metadata": {},
   "outputs": [],
   "source": [
    "pd.DataFrame(data = comments_set).to_csv('Comments.csv')"
   ]
  },
  {
   "cell_type": "code",
   "execution_count": null,
   "id": "eaebf487",
   "metadata": {},
   "outputs": [],
   "source": []
  }
 ],
 "metadata": {
  "kernelspec": {
   "display_name": "Python 3 (ipykernel)",
   "language": "python",
   "name": "python3"
  },
  "language_info": {
   "codemirror_mode": {
    "name": "ipython",
    "version": 3
   },
   "file_extension": ".py",
   "mimetype": "text/x-python",
   "name": "python",
   "nbconvert_exporter": "python",
   "pygments_lexer": "ipython3",
   "version": "3.9.13"
  }
 },
 "nbformat": 4,
 "nbformat_minor": 5
}
